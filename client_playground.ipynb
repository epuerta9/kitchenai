{
 "cells": [
  {
   "cell_type": "code",
   "execution_count": 1,
   "metadata": {},
   "outputs": [
    {
     "data": {
      "application/vnd.jupyter.widget-view+json": {
       "model_id": "e3c4d21e99554c75b22cd8f21429ff53",
       "version_major": 2,
       "version_minor": 0
      },
      "text/plain": [
       "Output()"
      ]
     },
     "metadata": {},
     "output_type": "display_data"
    },
    {
     "data": {
      "text/html": [
       "<pre style=\"white-space:pre;overflow-x:auto;line-height:normal;font-family:Menlo,'DejaVu Sans Mono',consolas,'Courier New',monospace\"></pre>\n"
      ],
      "text/plain": []
     },
     "metadata": {},
     "output_type": "display_data"
    }
   ],
   "source": [
    "from dj_notebook import activate\n",
    "import os \n",
    "os.environ[\"AWS_S3_VERIFY\"] = \"false\"\n",
    "plus = activate()"
   ]
  },
  {
   "cell_type": "code",
   "execution_count": 8,
   "metadata": {},
   "outputs": [
    {
     "name": "stdout",
     "output_type": "stream",
     "text": [
      "{'client_id': 'llama-index', 'namespace': 'llama-index', 'label': 'query', 'version': '1.0.0'}\n"
     ]
    },
    {
     "data": {
      "text/html": [
       "<pre style=\"white-space:pre;overflow-x:auto;line-height:normal;font-family:Menlo,'DejaVu Sans Mono',consolas,'Courier New',monospace\">INFO HTTP Request: POST http://localhost:8001/v1/chat/completions \"HTTP/1.1 200 OK\"\n",
       "</pre>\n"
      ],
      "text/plain": [
       "INFO HTTP Request: POST http://localhost:8001/v1/chat/completions \"HTTP/1.1 200 OK\"\n"
      ]
     },
     "metadata": {},
     "output_type": "display_data"
    },
    {
     "name": "stdout",
     "output_type": "stream",
     "text": [
      "ChatCompletion(id='afb941f2-53a0-4ef6-ba00-e4e8f63abb4c', choices=[Choice(finish_reason='stop', index=0, logprobs=None, message=ChatCompletionMessage(content='The most important part of the readme is the section titled \"Under the Hood\" which highlights key components such as NATS Messaging Fabric for seamless connectivity, Bento Boxes for lightweight AI components, Plugin System for extending functionality, and built-in tools for observability like tracing, monitoring, and debugging.', refusal=None, role='assistant', audio=None, function_call=None, tool_calls=None, retrieval_context=[{'text': '🔧 **Under the Hood**\\n\\n- **NATS Messaging Fabric**: Seamless connectivity for distributed systems.  \\n- **Bento Boxes**: Lightweight, shareable AI components.  \\n- **Plugin System**: Extend with prompt management, evaluations, and more.  \\n- **Observability Built-In**: Tools for tracing, monitoring, and debugging.  \\n\\n---', 'metadata': {'user_id': '123', 'other_key': 'value', 'document_title': '\"Revolutionizing Connectivity and AI Component Sharing with Innovative Tools\"', 'questions_this_excerpt_can_answer': '1. How does the document propose revolutionizing connectivity and AI component sharing?\\n2. What specific tools are mentioned in the document for seamless connectivity in distributed systems?\\n3. How are Bento Boxes described in the document and what purpose do they serve in AI component sharing?\\n4. What features does the plugin system mentioned in the document offer for extending functionality?\\n5. What built-in tools are highlighted in the document for tracing, monitoring, and debugging purposes?'}, 'score': 0.6121483810089705}, {'text': '🙏 **Acknowledgements**\\n\\nKitchenAI draws inspiration from the open-source community and modern AI challenges. Together, we simplify AI development!  \\n\\n---', 'metadata': {'user_id': '123', 'other_key': 'value', 'document_title': '\"Embracing Open Source and AI Innovation for Simplified Development: A Comprehensive Guide\"', 'questions_this_excerpt_can_answer': '1. How does KitchenAI draw inspiration from the open-source community and modern AI challenges?\\n2. What is the user_id associated with the document?\\n3. What is the document_title of the comprehensive guide mentioned in the excerpt?\\n4. How does KitchenAI aim to simplify AI development?\\n5. What specific role does the open-source community play in the development of KitchenAI?'}, 'score': 0.5978214937488215}]), error=None)], created=1738281258, model='gpt-4o', object='chat.completion', service_tier=None, system_fingerprint=None, usage=CompletionUsage(completion_tokens=3007, prompt_tokens=14306, total_tokens=17313, completion_tokens_details=None, prompt_tokens_details=None))\n"
     ]
    }
   ],
   "source": [
    "from openai import OpenAI\n",
    "from whisk.kitchenai_sdk.http_schema import ChatExtraBody\n",
    "\n",
    "client = OpenAI(base_url=\"http://localhost:8001/v1\")\n",
    "\n",
    "chat_extra_body = ChatExtraBody(\n",
    "    client_id=\"llama-index\",\n",
    "    namespace=\"llama-index\",\n",
    "    label=\"query\",\n",
    "    version=\"1.0.0\",\n",
    ")   \n",
    "\n",
    "print(chat_extra_body.model_dump())\n",
    "\n",
    "response = client.chat.completions.create(\n",
    "    model=\"gpt-4o\",\n",
    "    messages=[{\"role\": \"user\", \"content\": \"whats the most important part of the readme?\"}],\n",
    "    metadata={\"user_id\": \"123\"},\n",
    "    extra_body=chat_extra_body.model_dump()\n",
    ")\n",
    "\n",
    "print(response)\n"
   ]
  },
  {
   "cell_type": "code",
   "execution_count": 4,
   "metadata": {},
   "outputs": [
    {
     "data": {
      "text/html": [
       "<pre style=\"white-space:pre;overflow-x:auto;line-height:normal;font-family:Menlo,'DejaVu Sans Mono',consolas,'Courier New',monospace\">INFO HTTP Request: POST http://localhost:8001/v1/files \"HTTP/1.1 200 OK\"\n",
       "</pre>\n"
      ],
      "text/plain": [
       "INFO HTTP Request: POST http://localhost:8001/v1/files \"HTTP/1.1 200 OK\"\n"
      ]
     },
     "metadata": {},
     "output_type": "display_data"
    },
    {
     "name": "stdout",
     "output_type": "stream",
     "text": [
      "FileObject(id='36', bytes=6275, created_at=1738281132, filename='README.md', object='file', purpose='{\"client_id\": \"llama-index\", \"namespace\": \"llama-index\", \"label\": \"storage\", \"version\": \"0.0.1\", \"metadata\": {\"user_id\": \"123\", \"other_key\": \"value\"}}', status='pending', status_details=None)\n"
     ]
    }
   ],
   "source": [
    "import json\n",
    "\n",
    "from whisk.kitchenai_sdk.http_schema import FileExtraBody   \n",
    "\n",
    "file_extra_body = FileExtraBody(\n",
    "    client_id=\"llama-index\",\n",
    "    namespace=\"llama-index\",\n",
    "    label=\"storage\",\n",
    "    version=\"1.0.0\",\n",
    "    metadata=\"user_id=123,other_key=value\"  # Changed to string format\n",
    ")\n",
    "\n",
    "response = client.files.create(\n",
    "    file=open(\"README.md\", \"rb\"),\n",
    "    purpose=\"chat\",\n",
    "    extra_body=file_extra_body.model_dump()\n",
    ")\n",
    "print(response)"
   ]
  },
  {
   "cell_type": "code",
   "execution_count": 7,
   "metadata": {},
   "outputs": [
    {
     "data": {
      "text/html": [
       "<pre style=\"white-space:pre;overflow-x:auto;line-height:normal;font-family:Menlo,'DejaVu Sans Mono',consolas,'Courier New',monospace\">INFO HTTP Request: GET http://localhost:8001/v1/files \"HTTP/1.1 200 OK\"\n",
       "</pre>\n"
      ],
      "text/plain": [
       "INFO HTTP Request: GET http://localhost:8001/v1/files \"HTTP/1.1 200 OK\"\n"
      ]
     },
     "metadata": {},
     "output_type": "display_data"
    },
    {
     "data": {
      "text/plain": [
       "SyncCursorPage[FileObject](data=[FileObject(id='29', bytes=6275, created_at=1738270803, filename='README.md', object='file', purpose='{\"client_id\": \"openai-simple\", \"namespace\": \"openai-simple\", \"label\": \"chat\", \"version\": \"0.0.1\", \"metadata\": {}}', status='failed', status_details=None), FileObject(id='28', bytes=6275, created_at=1738270802, filename='README.md', object='file', purpose='{\"client_id\": \"openai-simple\", \"namespace\": \"openai-simple\", \"label\": \"chat\", \"version\": \"0.0.1\", \"metadata\": {}}', status='failed', status_details=None), FileObject(id='27', bytes=6275, created_at=1738270801, filename='README.md', object='file', purpose='{\"client_id\": \"openai-simple\", \"namespace\": \"openai-simple\", \"label\": \"chat\", \"version\": \"0.0.1\", \"metadata\": {}}', status='failed', status_details=None), FileObject(id='26', bytes=6275, created_at=1738270742, filename='README.md', object='file', purpose='{\"client_id\": \"openai-simple\", \"namespace\": \"openai-simple\", \"label\": \"chat\", \"version\": \"0.0.1\", \"metadata\": {}}', status='pending', status_details=None), FileObject(id='25', bytes=6275, created_at=1738270741, filename='README.md', object='file', purpose='{\"client_id\": \"openai-simple\", \"namespace\": \"openai-simple\", \"label\": \"chat\", \"version\": \"0.0.1\", \"metadata\": {}}', status='pending', status_details=None), FileObject(id='24', bytes=6275, created_at=1738270740, filename='README.md', object='file', purpose='{\"client_id\": \"openai-simple\", \"namespace\": \"openai-simple\", \"label\": \"chat\", \"version\": \"0.0.1\", \"metadata\": {}}', status='pending', status_details=None), FileObject(id='23', bytes=6275, created_at=1738269943, filename='README.md', object='file', purpose='{\"client_id\": \"openai-simple\", \"namespace\": \"openai-simple\", \"label\": \"chat\", \"version\": \"0.0.1\", \"metadata\": {}}', status='pending', status_details=None), FileObject(id='22', bytes=6275, created_at=1738269534, filename='README.md', object='file', purpose='{\"client_id\": \"openai-simple\", \"namespace\": \"openai-simple\", \"label\": \"chat\", \"version\": \"0.0.1\", \"metadata\": {}}', status='pending', status_details=None), FileObject(id='21', bytes=6275, created_at=1738260718, filename='README.md', object='file', purpose='{\"client_id\": \"openai-simple\", \"namespace\": \"openai-simple\", \"label\": \"chat\", \"version\": \"0.0.1\", \"metadata\": {}}', status='pending', status_details=None), FileObject(id='20', bytes=6275, created_at=1738260437, filename='README.md', object='file', purpose='{\"client_id\": \"openai-simple\", \"namespace\": \"openai-simple\", \"label\": \"chat\", \"version\": \"0.0.1\", \"metadata\": {}}', status='pending', status_details=None), FileObject(id='19', bytes=6275, created_at=1738260384, filename='README.md', object='file', purpose='{\"client_id\": \"openai-simple\", \"namespace\": \"openai-simple\", \"label\": \"chat\", \"version\": \"0.0.1\", \"metadata\": {}}', status='pending', status_details=None), FileObject(id='18', bytes=6275, created_at=1738260239, filename='README.md', object='file', purpose='{\"client_id\": \"openai-simple\", \"namespace\": \"openai-simple\", \"label\": \"chat\", \"version\": \"0.0.1\", \"metadata\": {}}', status='pending', status_details=None), FileObject(id='17', bytes=6275, created_at=1738260061, filename='README.md', object='file', purpose='{\"client_id\": \"openai-simple\", \"namespace\": \"openai-simple\", \"label\": \"chat\", \"version\": \"0.0.1\", \"metadata\": {}}', status='pending', status_details=None), FileObject(id='16', bytes=6275, created_at=1738260023, filename='README.md', object='file', purpose='{\"client_id\": \"openai-simple\", \"namespace\": \"openai-simple\", \"label\": \"chat\", \"version\": \"0.0.1\", \"metadata\": {}}', status='pending', status_details=None), FileObject(id='13', bytes=6275, created_at=1738228910, filename='README.md', object='file', purpose='{\"client_id\": \"openai-simple\", \"namespace\": \"openai-simple\", \"label\": \"chat\", \"version\": \"0.0.1\", \"metadata\": {}}', status='pending', status_details=None), FileObject(id='12', bytes=6275, created_at=1738228751, filename='README.md', object='file', purpose='{\"client_id\": \"openai-simple\", \"namespace\": \"openai-simple\", \"label\": \"chat\", \"version\": \"0.0.1\", \"metadata\": {}}', status='pending', status_details=None), FileObject(id='11', bytes=6275, created_at=1738228434, filename='README.md', object='file', purpose='{\"client_id\": \"openai-simple\", \"namespace\": \"openai-simple\", \"label\": \"chat\", \"version\": \"0.0.1\", \"metadata\": {}}', status='pending', status_details=None), FileObject(id='10', bytes=6275, created_at=1738228275, filename='README.md', object='file', purpose='{\"client_id\": \"openai-simple\", \"namespace\": \"openai-simple\", \"label\": \"chat\", \"version\": \"0.0.1\", \"metadata\": {}}', status='pending', status_details=None), FileObject(id='9', bytes=6275, created_at=1738228064, filename='README.md', object='file', purpose='{\"client_id\": \"openai-simple\", \"namespace\": \"openai-simple\", \"label\": \"chat\", \"version\": \"0.0.1\", \"metadata\": {}}', status='pending', status_details=None), FileObject(id='8', bytes=6275, created_at=1738227978, filename='README.md', object='file', purpose='{\"client_id\": \"openai-simple\", \"namespace\": \"openai-simple\", \"label\": \"chat\", \"version\": \"0.0.1\", \"metadata\": {}}', status='pending', status_details=None), FileObject(id='7', bytes=6275, created_at=1738227920, filename='README.md', object='file', purpose='{\"client_id\": \"openai-simple\", \"namespace\": \"openai-simple\", \"label\": \"chat\", \"version\": \"0.0.1\", \"metadata\": {}}', status='pending', status_details=None), FileObject(id='6', bytes=6275, created_at=1738227796, filename='README.md', object='file', purpose='{\"client_id\": \"openai-simple\", \"namespace\": \"openai-simple\", \"label\": \"chat\", \"version\": \"0.0.1\", \"metadata\": {}}', status='pending', status_details=None), FileObject(id='5', bytes=6275, created_at=1738226899, filename='README.md', object='file', purpose='{\"client_id\": \"openai-simple\", \"namespace\": \"openai-simple\", \"label\": \"chat\", \"version\": \"0.0.1\", \"metadata\": {}}', status='pending', status_details=None), FileObject(id='4', bytes=355606, created_at=1738226303, filename='onboarding-dev.png', object='file', purpose='{\"client_id\": \"openai-simple\", \"namespace\": \"openai-simple\", \"label\": \"chat\", \"version\": \"0.0.1\", \"metadata\": {}}', status='pending', status_details=None), FileObject(id='3', bytes=355606, created_at=1738226019, filename='onboarding-dev.png', object='file', purpose='{\"client_id\": \"openai-simple\", \"namespace\": \"openai-simple\", \"label\": \"chat\", \"version\": \"0.0.1\", \"metadata\": {}}', status='pending', status_details=None), FileObject(id='2', bytes=355606, created_at=1738225845, filename='onboarding-dev.png', object='file', purpose='{\"client_id\": \"openai-simple\", \"namespace\": \"openai-simple\", \"label\": \"chat\", \"version\": \"0.0.1\", \"metadata\": {}}', status='pending', status_details=None), FileObject(id='1', bytes=355606, created_at=1738225714, filename='onboarding-dev.png', object='file', purpose='{\"client_id\": \"openai-simple\", \"namespace\": \"openai-simple\", \"label\": \"chat\", \"version\": \"0.0.1\", \"metadata\": {}}', status='pending', status_details=None), FileObject(id='36', bytes=6275, created_at=1738281132, filename='README.md', object='file', purpose='{\"client_id\": \"llama-index\", \"namespace\": \"llama-index\", \"label\": \"storage\", \"version\": \"0.0.1\", \"metadata\": {\"user_id\": \"123\", \"other_key\": \"value\"}}', status='completed', status_details=None), FileObject(id='35', bytes=176299, created_at=1738281091, filename='consultancy-rfp.pdf', object='file', purpose='{\"client_id\": \"llama-index\", \"namespace\": \"llama-index\", \"label\": \"storage\", \"version\": \"0.0.1\", \"metadata\": {\"ee\": \"ee\"}}', status='completed', status_details=None), FileObject(id='34', bytes=176299, created_at=1738281035, filename='consultancy-rfp.pdf', object='file', purpose='{\"client_id\": \"llama-index\", \"namespace\": \"llama-index\", \"label\": \"storage\", \"version\": \"0.0.1\", \"metadata\": {\"ee\": \"eee\"}}', status='pending', status_details=None), FileObject(id='31', bytes=6275, created_at=1738278358, filename='README.md', object='file', purpose='{\"client_id\": \"llama-index\", \"namespace\": \"llama-index\", \"label\": \"storage\", \"version\": \"0.0.1\", \"metadata\": {}}', status='pending', status_details=None), FileObject(id='30', bytes=6275, created_at=1738275821, filename='README.md', object='file', purpose='{\"client_id\": \"llama-index\", \"namespace\": \"llama-index\", \"label\": \"storage\", \"version\": \"0.0.1\", \"metadata\": {}}', status='completed', status_details=None)], object='list')"
      ]
     },
     "execution_count": 7,
     "metadata": {},
     "output_type": "execute_result"
    }
   ],
   "source": [
    "client.files.list()\n"
   ]
  },
  {
   "cell_type": "code",
   "execution_count": 6,
   "metadata": {},
   "outputs": [
    {
     "data": {
      "text/html": [
       "<pre style=\"white-space:pre;overflow-x:auto;line-height:normal;font-family:Menlo,'DejaVu Sans Mono',consolas,'Courier New',monospace\">INFO HTTP Request: GET http://localhost:8001/v1/files/36 \"HTTP/1.1 200 OK\"\n",
       "</pre>\n"
      ],
      "text/plain": [
       "INFO HTTP Request: GET http://localhost:8001/v1/files/36 \"HTTP/1.1 200 OK\"\n"
      ]
     },
     "metadata": {},
     "output_type": "display_data"
    },
    {
     "data": {
      "text/plain": [
       "FileObject(id='36', bytes=6275, created_at=1738281132, filename='README.md', object='file', purpose='{\"client_id\": \"llama-index\", \"namespace\": \"llama-index\", \"label\": \"storage\", \"version\": \"0.0.1\", \"metadata\": {\"user_id\": \"123\", \"other_key\": \"value\"}}', status='completed', status_details=None)"
      ]
     },
     "execution_count": 6,
     "metadata": {},
     "output_type": "execute_result"
    }
   ],
   "source": [
    "client.files.retrieve(\"36\")\n"
   ]
  },
  {
   "cell_type": "code",
   "execution_count": null,
   "metadata": {},
   "outputs": [],
   "source": [
    "client.files.delete(\"15\")\n"
   ]
  }
 ],
 "metadata": {
  "kernelspec": {
   "display_name": "kitchenai",
   "language": "python",
   "name": "python3"
  },
  "language_info": {
   "codemirror_mode": {
    "name": "ipython",
    "version": 3
   },
   "file_extension": ".py",
   "mimetype": "text/x-python",
   "name": "python",
   "nbconvert_exporter": "python",
   "pygments_lexer": "ipython3",
   "version": "3.11.8"
  }
 },
 "nbformat": 4,
 "nbformat_minor": 4
}
