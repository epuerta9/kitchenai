{
 "cells": [
  {
   "cell_type": "code",
   "execution_count": 1,
   "metadata": {},
   "outputs": [
    {
     "data": {
      "application/vnd.jupyter.widget-view+json": {
       "model_id": "6e3bfd89865744e089a219a1831239ec",
       "version_major": 2,
       "version_minor": 0
      },
      "text/plain": [
       "Output()"
      ]
     },
     "metadata": {},
     "output_type": "display_data"
    },
    {
     "data": {
      "text/html": [
       "<pre style=\"white-space:pre;overflow-x:auto;line-height:normal;font-family:Menlo,'DejaVu Sans Mono',consolas,'Courier New',monospace\"></pre>\n"
      ],
      "text/plain": []
     },
     "metadata": {},
     "output_type": "display_data"
    }
   ],
   "source": [
    "from dj_notebook import activate\n",
    "\n",
    "plus = activate()"
   ]
  },
  {
   "cell_type": "code",
   "execution_count": 8,
   "metadata": {},
   "outputs": [],
   "source": [
    "from django.apps import apps\n",
    "\n",
    "app = apps.get_app_config(\"kitchenai_rag_simple_bento\")\n",
    "\n",
    "app.ready()\n",
    "\n",
    "\n",
    "\n"
   ]
  },
  {
   "cell_type": "code",
   "execution_count": 9,
   "metadata": {},
   "outputs": [
    {
     "data": {
      "text/plain": [
       "['kitchenai.core',\n",
       " 'kitchenai.notebooks',\n",
       " 'kitchenai.bento',\n",
       " 'kitchenai.plugins',\n",
       " 'kitchenai.dashboard',\n",
       " 'debug_toolbar',\n",
       " 'whitenoise.runserver_nostatic',\n",
       " 'django_browser_reload',\n",
       " 'django_fastdev',\n",
       " 'django_watchfiles',\n",
       " 'allauth_ui',\n",
       " 'allauth',\n",
       " 'allauth.account',\n",
       " 'allauth.socialaccount',\n",
       " 'compressor',\n",
       " 'crispy_forms',\n",
       " 'crispy_tailwind',\n",
       " 'django_extensions',\n",
       " 'django_htmx',\n",
       " 'django_q',\n",
       " 'django_q_registry',\n",
       " 'django_tailwind_cli',\n",
       " 'falco_toolbox',\n",
       " 'health_check',\n",
       " 'health_check.cache',\n",
       " 'health_check.contrib.migrations',\n",
       " 'health_check.db',\n",
       " 'health_check.storage',\n",
       " 'heroicons',\n",
       " 'template_partials',\n",
       " 'unique_user_email',\n",
       " 'widget_tweaks',\n",
       " 'slippers',\n",
       " 'django.contrib.admin',\n",
       " 'django.contrib.auth',\n",
       " 'django.contrib.contenttypes',\n",
       " 'django.contrib.sessions',\n",
       " 'django.contrib.messages',\n",
       " 'django.contrib.staticfiles',\n",
       " 'django.contrib.humanize',\n",
       " 'django.forms',\n",
       " 'djp',\n",
       " 'kitchenai_rag_simple_bento',\n",
       " 'deepeval_plugin',\n",
       " 'kitchenai_playground_app']"
      ]
     },
     "execution_count": 9,
     "metadata": {},
     "output_type": "execute_result"
    }
   ],
   "source": [
    "from django.apps import apps\n",
    "[app.name for app in apps.get_app_configs()]"
   ]
  },
  {
   "cell_type": "code",
   "execution_count": 11,
   "metadata": {},
   "outputs": [
    {
     "name": "stdout",
     "output_type": "stream",
     "text": [
      "{'kitchenai_rag_simple_bento': <kitchenai.bento.manager.DependencyManager object at 0x7c5eb3e292d0>}\n"
     ]
    }
   ],
   "source": [
    "from kitchenai.bento.manager import DependencyManager\n",
    "dm = DependencyManager.get_instance('kitchenai_rag_simple_bento')\n",
    "print(dm._instances)"
   ]
  },
  {
   "cell_type": "code",
   "execution_count": 16,
   "metadata": {},
   "outputs": [
    {
     "name": "stdout",
     "output_type": "stream",
     "text": [
      "{'namespace': 'kitchenai_rag_simple_bento', 'query_handlers': [], 'storage_handlers': [], 'embed_handlers': [], 'agent_handlers': []}\n",
      "<kitchenai.bento.manager.DependencyManager object at 0x7c5eb3e292d0>\n",
      "{}\n",
      "<kitchenai.bento.manager.DependencyManager object at 0x7c5eb3e292d0>\n",
      "<kitchenai.bento.manager.DependencyManager object at 0x7c5eb3e292d0>\n",
      "<kitchenai.bento.manager.DependencyManager object at 0x7c5eb3e292d0>\n"
     ]
    }
   ],
   "source": [
    "from kitchenai_rag_simple_bento.kitchen import app\n",
    "print(app.to_dict())\n",
    "print(app.query._manager)\n",
    "print(app.query._tasks)\n",
    "print(app.storage._manager)\n",
    "print(app.embeddings._manager)\n",
    "print(app.agent._manager)\n"
   ]
  },
  {
   "cell_type": "code",
   "execution_count": 7,
   "metadata": {},
   "outputs": [
    {
     "name": "stdout",
     "output_type": "stream",
     "text": [
      "Decorator called\n",
      "Query handlers: {'__name__': 'kitchenai_rag_simple_bento.query.query', '__doc__': None, '__package__': 'kitchenai_rag_simple_bento.query', '__loader__': <_frozen_importlib_external.SourceFileLoader object at 0x7deb6f2b8790>, '__spec__': ModuleSpec(name='kitchenai_rag_simple_bento.query.query', loader=<_frozen_importlib_external.SourceFileLoader object at 0x7deb6f2b8790>, origin='/home/epuerta/projects/kitchenai/bento-community/kitchenai-bento-rag-simple/kitchenai_rag_simple_bento/query/query.py'), '__file__': '/home/epuerta/projects/kitchenai/bento-community/kitchenai-bento-rag-simple/kitchenai_rag_simple_bento/query/query.py', '__cached__': '/home/epuerta/projects/kitchenai/bento-community/kitchenai-bento-rag-simple/kitchenai_rag_simple_bento/query/__pycache__/query.cpython-311.pyc', '__builtins__': {'__name__': 'builtins', '__doc__': \"Built-in functions, types, exceptions, and other objects.\\n\\nThis module provides direct access to all 'built-in'\\nidentifiers of Python; for example, builtins.len is\\nthe full name for the built-in function len().\\n\\nThis module is not normally accessed explicitly by most\\napplications, but can be useful in modules that provide\\nobjects with the same name as a built-in value, but in\\nwhich the built-in of that name is also needed.\", '__package__': '', '__loader__': <class '_frozen_importlib.BuiltinImporter'>, '__spec__': ModuleSpec(name='builtins', loader=<class '_frozen_importlib.BuiltinImporter'>, origin='built-in'), '__build_class__': <built-in function __build_class__>, '__import__': <built-in function __import__>, 'abs': <built-in function abs>, 'all': <built-in function all>, 'any': <built-in function any>, 'ascii': <built-in function ascii>, 'bin': <built-in function bin>, 'breakpoint': <built-in function breakpoint>, 'callable': <built-in function callable>, 'chr': <built-in function chr>, 'compile': <built-in function compile>, 'delattr': <built-in function delattr>, 'dir': <built-in function dir>, 'divmod': <built-in function divmod>, 'eval': <built-in function eval>, 'exec': <built-in function exec>, 'format': <built-in function format>, 'getattr': <built-in function getattr>, 'globals': <built-in function globals>, 'hasattr': <built-in function hasattr>, 'hash': <built-in function hash>, 'hex': <built-in function hex>, 'id': <built-in function id>, 'input': <bound method Kernel.raw_input of <ipykernel.ipkernel.IPythonKernel object at 0x7debbe622410>>, 'isinstance': <built-in function isinstance>, 'issubclass': <built-in function issubclass>, 'iter': <built-in function iter>, 'aiter': <built-in function aiter>, 'len': <built-in function len>, 'locals': <built-in function locals>, 'max': <built-in function max>, 'min': <built-in function min>, 'next': <built-in function next>, 'anext': <built-in function anext>, 'oct': <built-in function oct>, 'ord': <built-in function ord>, 'pow': <built-in function pow>, 'print': <built-in function print>, 'repr': <built-in function repr>, 'round': <built-in function round>, 'setattr': <built-in function setattr>, 'sorted': <built-in function sorted>, 'sum': <built-in function sum>, 'vars': <built-in function vars>, 'None': None, 'Ellipsis': Ellipsis, 'NotImplemented': NotImplemented, 'False': False, 'True': True, 'bool': <class 'bool'>, 'memoryview': <class 'memoryview'>, 'bytearray': <class 'bytearray'>, 'bytes': <class 'bytes'>, 'classmethod': <class 'classmethod'>, 'complex': <class 'complex'>, 'dict': <class 'dict'>, 'enumerate': <class 'enumerate'>, 'filter': <class 'filter'>, 'float': <class 'float'>, 'frozenset': <class 'frozenset'>, 'property': <class 'property'>, 'int': <class 'int'>, 'list': <class 'list'>, 'map': <class 'map'>, 'object': <class 'object'>, 'range': <class 'range'>, 'reversed': <class 'reversed'>, 'set': <class 'set'>, 'slice': <class 'slice'>, 'staticmethod': <class 'staticmethod'>, 'str': <class 'str'>, 'super': <class 'super'>, 'tuple': <class 'tuple'>, 'type': <class 'type'>, 'zip': <class 'zip'>, '__debug__': True, 'BaseException': <class 'BaseException'>, 'BaseExceptionGroup': <class 'BaseExceptionGroup'>, 'Exception': <class 'Exception'>, 'GeneratorExit': <class 'GeneratorExit'>, 'KeyboardInterrupt': <class 'KeyboardInterrupt'>, 'SystemExit': <class 'SystemExit'>, 'ArithmeticError': <class 'ArithmeticError'>, 'AssertionError': <class 'AssertionError'>, 'AttributeError': <class 'AttributeError'>, 'BufferError': <class 'BufferError'>, 'EOFError': <class 'EOFError'>, 'ImportError': <class 'ImportError'>, 'LookupError': <class 'LookupError'>, 'MemoryError': <class 'MemoryError'>, 'NameError': <class 'NameError'>, 'OSError': <class 'OSError'>, 'ReferenceError': <class 'ReferenceError'>, 'RuntimeError': <class 'RuntimeError'>, 'StopAsyncIteration': <class 'StopAsyncIteration'>, 'StopIteration': <class 'StopIteration'>, 'SyntaxError': <class 'SyntaxError'>, 'SystemError': <class 'SystemError'>, 'TypeError': <class 'TypeError'>, 'ValueError': <class 'ValueError'>, 'Warning': <class 'Warning'>, 'FloatingPointError': <class 'FloatingPointError'>, 'OverflowError': <class 'OverflowError'>, 'ZeroDivisionError': <class 'ZeroDivisionError'>, 'BytesWarning': <class 'BytesWarning'>, 'DeprecationWarning': <class 'DeprecationWarning'>, 'EncodingWarning': <class 'EncodingWarning'>, 'FutureWarning': <class 'FutureWarning'>, 'ImportWarning': <class 'ImportWarning'>, 'PendingDeprecationWarning': <class 'PendingDeprecationWarning'>, 'ResourceWarning': <class 'ResourceWarning'>, 'RuntimeWarning': <class 'RuntimeWarning'>, 'SyntaxWarning': <class 'SyntaxWarning'>, 'UnicodeWarning': <class 'UnicodeWarning'>, 'UserWarning': <class 'UserWarning'>, 'BlockingIOError': <class 'BlockingIOError'>, 'ChildProcessError': <class 'ChildProcessError'>, 'ConnectionError': <class 'ConnectionError'>, 'FileExistsError': <class 'FileExistsError'>, 'FileNotFoundError': <class 'FileNotFoundError'>, 'InterruptedError': <class 'InterruptedError'>, 'IsADirectoryError': <class 'IsADirectoryError'>, 'NotADirectoryError': <class 'NotADirectoryError'>, 'PermissionError': <class 'PermissionError'>, 'ProcessLookupError': <class 'ProcessLookupError'>, 'TimeoutError': <class 'TimeoutError'>, 'IndentationError': <class 'IndentationError'>, 'IndexError': <class 'IndexError'>, 'KeyError': <class 'KeyError'>, 'ModuleNotFoundError': <class 'ModuleNotFoundError'>, 'NotImplementedError': <class 'NotImplementedError'>, 'RecursionError': <class 'RecursionError'>, 'UnboundLocalError': <class 'UnboundLocalError'>, 'UnicodeError': <class 'UnicodeError'>, 'BrokenPipeError': <class 'BrokenPipeError'>, 'ConnectionAbortedError': <class 'ConnectionAbortedError'>, 'ConnectionRefusedError': <class 'ConnectionRefusedError'>, 'ConnectionResetError': <class 'ConnectionResetError'>, 'TabError': <class 'TabError'>, 'UnicodeDecodeError': <class 'UnicodeDecodeError'>, 'UnicodeEncodeError': <class 'UnicodeEncodeError'>, 'UnicodeTranslateError': <class 'UnicodeTranslateError'>, 'ExceptionGroup': <class 'ExceptionGroup'>, 'EnvironmentError': <class 'OSError'>, 'IOError': <class 'OSError'>, 'open': <built-in function open>, 'copyright': Copyright (c) 2001-2023 Python Software Foundation.\n",
      "All Rights Reserved.\n",
      "\n",
      "Copyright (c) 2000 BeOpen.com.\n",
      "All Rights Reserved.\n",
      "\n",
      "Copyright (c) 1995-2001 Corporation for National Research Initiatives.\n",
      "All Rights Reserved.\n",
      "\n",
      "Copyright (c) 1991-1995 Stichting Mathematisch Centrum, Amsterdam.\n",
      "All Rights Reserved., 'credits':     Thanks to CWI, CNRI, BeOpen.com, Zope Corporation and a cast of thousands\n",
      "    for supporting Python development.  See www.python.org for more information., 'license': Type license() to see the full license text, 'help': Type help() for interactive help, or help(object) for help about object., 'execfile': <function execfile at 0x7debbe4db880>, 'runfile': <function runfile at 0x7debbdbb5760>, '__IPYTHON__': True, 'display': <function display at 0x7debbf53f380>, 'get_ipython': <bound method InteractiveShell.get_ipython of <ipykernel.zmqshell.ZMQInteractiveShell object at 0x7debbc63c590>>}, 'kitchen': <kitchenai.contrib.kitchenai_sdk.kitchenai.KitchenAIApp object at 0x7deb6f2ad350>, 'QuerySchema': <class 'kitchenai.contrib.kitchenai_sdk.schema.QuerySchema'>, 'QueryBaseResponseSchema': <class 'kitchenai.contrib.kitchenai_sdk.schema.QueryBaseResponseSchema'>, 'VectorStoreIndex': <class 'llama_index.core.indices.vector_store.base.VectorStoreIndex'>, 'StorageContext': <class 'llama_index.core.storage.storage_context.StorageContext'>, 'apps': <django.apps.registry.Apps object at 0x7debbc5eb410>, 'DependencyType': <enum 'DependencyType'>, 'debug_log': <_io.TextIOWrapper name='/tmp/kitchen_debug.log' mode='a' encoding='UTF-8'>, 'kitchenai_bento_simple_rag_vjnk': <function kitchenai_bento_simple_rag_vjnk at 0x7deb6994e980>, '__all__': ['kitchenai_bento_simple_rag_vjnk']}\n",
      "Storage handlers: {'__name__': 'kitchenai_rag_simple_bento.storage.vector', '__doc__': None, '__package__': 'kitchenai_rag_simple_bento.storage', '__loader__': <_frozen_importlib_external.SourceFileLoader object at 0x7deb69a40ad0>, '__spec__': ModuleSpec(name='kitchenai_rag_simple_bento.storage.vector', loader=<_frozen_importlib_external.SourceFileLoader object at 0x7deb69a40ad0>, origin='/home/epuerta/projects/kitchenai/bento-community/kitchenai-bento-rag-simple/kitchenai_rag_simple_bento/storage/vector.py'), '__file__': '/home/epuerta/projects/kitchenai/bento-community/kitchenai-bento-rag-simple/kitchenai_rag_simple_bento/storage/vector.py', '__cached__': '/home/epuerta/projects/kitchenai/bento-community/kitchenai-bento-rag-simple/kitchenai_rag_simple_bento/storage/__pycache__/vector.cpython-311.pyc', '__builtins__': {'__name__': 'builtins', '__doc__': \"Built-in functions, types, exceptions, and other objects.\\n\\nThis module provides direct access to all 'built-in'\\nidentifiers of Python; for example, builtins.len is\\nthe full name for the built-in function len().\\n\\nThis module is not normally accessed explicitly by most\\napplications, but can be useful in modules that provide\\nobjects with the same name as a built-in value, but in\\nwhich the built-in of that name is also needed.\", '__package__': '', '__loader__': <class '_frozen_importlib.BuiltinImporter'>, '__spec__': ModuleSpec(name='builtins', loader=<class '_frozen_importlib.BuiltinImporter'>, origin='built-in'), '__build_class__': <built-in function __build_class__>, '__import__': <built-in function __import__>, 'abs': <built-in function abs>, 'all': <built-in function all>, 'any': <built-in function any>, 'ascii': <built-in function ascii>, 'bin': <built-in function bin>, 'breakpoint': <built-in function breakpoint>, 'callable': <built-in function callable>, 'chr': <built-in function chr>, 'compile': <built-in function compile>, 'delattr': <built-in function delattr>, 'dir': <built-in function dir>, 'divmod': <built-in function divmod>, 'eval': <built-in function eval>, 'exec': <built-in function exec>, 'format': <built-in function format>, 'getattr': <built-in function getattr>, 'globals': <built-in function globals>, 'hasattr': <built-in function hasattr>, 'hash': <built-in function hash>, 'hex': <built-in function hex>, 'id': <built-in function id>, 'input': <bound method Kernel.raw_input of <ipykernel.ipkernel.IPythonKernel object at 0x7debbe622410>>, 'isinstance': <built-in function isinstance>, 'issubclass': <built-in function issubclass>, 'iter': <built-in function iter>, 'aiter': <built-in function aiter>, 'len': <built-in function len>, 'locals': <built-in function locals>, 'max': <built-in function max>, 'min': <built-in function min>, 'next': <built-in function next>, 'anext': <built-in function anext>, 'oct': <built-in function oct>, 'ord': <built-in function ord>, 'pow': <built-in function pow>, 'print': <built-in function print>, 'repr': <built-in function repr>, 'round': <built-in function round>, 'setattr': <built-in function setattr>, 'sorted': <built-in function sorted>, 'sum': <built-in function sum>, 'vars': <built-in function vars>, 'None': None, 'Ellipsis': Ellipsis, 'NotImplemented': NotImplemented, 'False': False, 'True': True, 'bool': <class 'bool'>, 'memoryview': <class 'memoryview'>, 'bytearray': <class 'bytearray'>, 'bytes': <class 'bytes'>, 'classmethod': <class 'classmethod'>, 'complex': <class 'complex'>, 'dict': <class 'dict'>, 'enumerate': <class 'enumerate'>, 'filter': <class 'filter'>, 'float': <class 'float'>, 'frozenset': <class 'frozenset'>, 'property': <class 'property'>, 'int': <class 'int'>, 'list': <class 'list'>, 'map': <class 'map'>, 'object': <class 'object'>, 'range': <class 'range'>, 'reversed': <class 'reversed'>, 'set': <class 'set'>, 'slice': <class 'slice'>, 'staticmethod': <class 'staticmethod'>, 'str': <class 'str'>, 'super': <class 'super'>, 'tuple': <class 'tuple'>, 'type': <class 'type'>, 'zip': <class 'zip'>, '__debug__': True, 'BaseException': <class 'BaseException'>, 'BaseExceptionGroup': <class 'BaseExceptionGroup'>, 'Exception': <class 'Exception'>, 'GeneratorExit': <class 'GeneratorExit'>, 'KeyboardInterrupt': <class 'KeyboardInterrupt'>, 'SystemExit': <class 'SystemExit'>, 'ArithmeticError': <class 'ArithmeticError'>, 'AssertionError': <class 'AssertionError'>, 'AttributeError': <class 'AttributeError'>, 'BufferError': <class 'BufferError'>, 'EOFError': <class 'EOFError'>, 'ImportError': <class 'ImportError'>, 'LookupError': <class 'LookupError'>, 'MemoryError': <class 'MemoryError'>, 'NameError': <class 'NameError'>, 'OSError': <class 'OSError'>, 'ReferenceError': <class 'ReferenceError'>, 'RuntimeError': <class 'RuntimeError'>, 'StopAsyncIteration': <class 'StopAsyncIteration'>, 'StopIteration': <class 'StopIteration'>, 'SyntaxError': <class 'SyntaxError'>, 'SystemError': <class 'SystemError'>, 'TypeError': <class 'TypeError'>, 'ValueError': <class 'ValueError'>, 'Warning': <class 'Warning'>, 'FloatingPointError': <class 'FloatingPointError'>, 'OverflowError': <class 'OverflowError'>, 'ZeroDivisionError': <class 'ZeroDivisionError'>, 'BytesWarning': <class 'BytesWarning'>, 'DeprecationWarning': <class 'DeprecationWarning'>, 'EncodingWarning': <class 'EncodingWarning'>, 'FutureWarning': <class 'FutureWarning'>, 'ImportWarning': <class 'ImportWarning'>, 'PendingDeprecationWarning': <class 'PendingDeprecationWarning'>, 'ResourceWarning': <class 'ResourceWarning'>, 'RuntimeWarning': <class 'RuntimeWarning'>, 'SyntaxWarning': <class 'SyntaxWarning'>, 'UnicodeWarning': <class 'UnicodeWarning'>, 'UserWarning': <class 'UserWarning'>, 'BlockingIOError': <class 'BlockingIOError'>, 'ChildProcessError': <class 'ChildProcessError'>, 'ConnectionError': <class 'ConnectionError'>, 'FileExistsError': <class 'FileExistsError'>, 'FileNotFoundError': <class 'FileNotFoundError'>, 'InterruptedError': <class 'InterruptedError'>, 'IsADirectoryError': <class 'IsADirectoryError'>, 'NotADirectoryError': <class 'NotADirectoryError'>, 'PermissionError': <class 'PermissionError'>, 'ProcessLookupError': <class 'ProcessLookupError'>, 'TimeoutError': <class 'TimeoutError'>, 'IndentationError': <class 'IndentationError'>, 'IndexError': <class 'IndexError'>, 'KeyError': <class 'KeyError'>, 'ModuleNotFoundError': <class 'ModuleNotFoundError'>, 'NotImplementedError': <class 'NotImplementedError'>, 'RecursionError': <class 'RecursionError'>, 'UnboundLocalError': <class 'UnboundLocalError'>, 'UnicodeError': <class 'UnicodeError'>, 'BrokenPipeError': <class 'BrokenPipeError'>, 'ConnectionAbortedError': <class 'ConnectionAbortedError'>, 'ConnectionRefusedError': <class 'ConnectionRefusedError'>, 'ConnectionResetError': <class 'ConnectionResetError'>, 'TabError': <class 'TabError'>, 'UnicodeDecodeError': <class 'UnicodeDecodeError'>, 'UnicodeEncodeError': <class 'UnicodeEncodeError'>, 'UnicodeTranslateError': <class 'UnicodeTranslateError'>, 'ExceptionGroup': <class 'ExceptionGroup'>, 'EnvironmentError': <class 'OSError'>, 'IOError': <class 'OSError'>, 'open': <built-in function open>, 'copyright': Copyright (c) 2001-2023 Python Software Foundation.\n",
      "All Rights Reserved.\n",
      "\n",
      "Copyright (c) 2000 BeOpen.com.\n",
      "All Rights Reserved.\n",
      "\n",
      "Copyright (c) 1995-2001 Corporation for National Research Initiatives.\n",
      "All Rights Reserved.\n",
      "\n",
      "Copyright (c) 1991-1995 Stichting Mathematisch Centrum, Amsterdam.\n",
      "All Rights Reserved., 'credits':     Thanks to CWI, CNRI, BeOpen.com, Zope Corporation and a cast of thousands\n",
      "    for supporting Python development.  See www.python.org for more information., 'license': Type license() to see the full license text, 'help': Type help() for interactive help, or help(object) for help about object., 'execfile': <function execfile at 0x7debbe4db880>, 'runfile': <function runfile at 0x7debbdbb5760>, '__IPYTHON__': True, 'display': <function display at 0x7debbf53f380>, 'get_ipython': <bound method InteractiveShell.get_ipython of <ipykernel.zmqshell.ZMQInteractiveShell object at 0x7debbc63c590>>}, 'logging': <module 'logging' from '/home/epuerta/.pyenv/versions/3.11.8/lib/python3.11/logging/__init__.py'>, 'kitchen': <kitchenai.contrib.kitchenai_sdk.kitchenai.KitchenAIApp object at 0x7deb6f2ad350>, 'Parser': <class 'kitchenai_llama.storage.llama_parser.Parser'>, 'StorageSchema': <class 'kitchenai.contrib.kitchenai_sdk.schema.StorageSchema'>, 'os': <module 'os' (frozen)>, 'TokenTextSplitter': <class 'llama_index.core.node_parser.text.token.TokenTextSplitter'>, 'TitleExtractor': <class 'llama_index.core.extractors.metadata_extractors.TitleExtractor'>, 'QuestionsAnsweredExtractor': <class 'llama_index.core.extractors.metadata_extractors.QuestionsAnsweredExtractor'>, 'Document': <class 'llama_index.core.schema.Document'>, 'VectorStoreIndex': <class 'llama_index.core.indices.vector_store.base.VectorStoreIndex'>, 'StorageContext': <class 'llama_index.core.storage.storage_context.StorageContext'>, 'apps': <django.apps.registry.Apps object at 0x7debbc5eb410>, 'logger': <Logger kitchenai_rag_simple_bento.storage.vector (INFO)>, 'simple_storage': <function simple_storage at 0x7deb6985ed40>}\n",
      "Embedding handlers: {'__name__': 'kitchenai_rag_simple_bento.embeddings.embeddings', '__doc__': None, '__package__': 'kitchenai_rag_simple_bento.embeddings', '__loader__': <_frozen_importlib_external.SourceFileLoader object at 0x7deb69a8a610>, '__spec__': ModuleSpec(name='kitchenai_rag_simple_bento.embeddings.embeddings', loader=<_frozen_importlib_external.SourceFileLoader object at 0x7deb69a8a610>, origin='/home/epuerta/projects/kitchenai/bento-community/kitchenai-bento-rag-simple/kitchenai_rag_simple_bento/embeddings/embeddings.py'), '__file__': '/home/epuerta/projects/kitchenai/bento-community/kitchenai-bento-rag-simple/kitchenai_rag_simple_bento/embeddings/embeddings.py', '__cached__': '/home/epuerta/projects/kitchenai/bento-community/kitchenai-bento-rag-simple/kitchenai_rag_simple_bento/embeddings/__pycache__/embeddings.cpython-311.pyc', '__builtins__': {'__name__': 'builtins', '__doc__': \"Built-in functions, types, exceptions, and other objects.\\n\\nThis module provides direct access to all 'built-in'\\nidentifiers of Python; for example, builtins.len is\\nthe full name for the built-in function len().\\n\\nThis module is not normally accessed explicitly by most\\napplications, but can be useful in modules that provide\\nobjects with the same name as a built-in value, but in\\nwhich the built-in of that name is also needed.\", '__package__': '', '__loader__': <class '_frozen_importlib.BuiltinImporter'>, '__spec__': ModuleSpec(name='builtins', loader=<class '_frozen_importlib.BuiltinImporter'>, origin='built-in'), '__build_class__': <built-in function __build_class__>, '__import__': <built-in function __import__>, 'abs': <built-in function abs>, 'all': <built-in function all>, 'any': <built-in function any>, 'ascii': <built-in function ascii>, 'bin': <built-in function bin>, 'breakpoint': <built-in function breakpoint>, 'callable': <built-in function callable>, 'chr': <built-in function chr>, 'compile': <built-in function compile>, 'delattr': <built-in function delattr>, 'dir': <built-in function dir>, 'divmod': <built-in function divmod>, 'eval': <built-in function eval>, 'exec': <built-in function exec>, 'format': <built-in function format>, 'getattr': <built-in function getattr>, 'globals': <built-in function globals>, 'hasattr': <built-in function hasattr>, 'hash': <built-in function hash>, 'hex': <built-in function hex>, 'id': <built-in function id>, 'input': <bound method Kernel.raw_input of <ipykernel.ipkernel.IPythonKernel object at 0x7debbe622410>>, 'isinstance': <built-in function isinstance>, 'issubclass': <built-in function issubclass>, 'iter': <built-in function iter>, 'aiter': <built-in function aiter>, 'len': <built-in function len>, 'locals': <built-in function locals>, 'max': <built-in function max>, 'min': <built-in function min>, 'next': <built-in function next>, 'anext': <built-in function anext>, 'oct': <built-in function oct>, 'ord': <built-in function ord>, 'pow': <built-in function pow>, 'print': <built-in function print>, 'repr': <built-in function repr>, 'round': <built-in function round>, 'setattr': <built-in function setattr>, 'sorted': <built-in function sorted>, 'sum': <built-in function sum>, 'vars': <built-in function vars>, 'None': None, 'Ellipsis': Ellipsis, 'NotImplemented': NotImplemented, 'False': False, 'True': True, 'bool': <class 'bool'>, 'memoryview': <class 'memoryview'>, 'bytearray': <class 'bytearray'>, 'bytes': <class 'bytes'>, 'classmethod': <class 'classmethod'>, 'complex': <class 'complex'>, 'dict': <class 'dict'>, 'enumerate': <class 'enumerate'>, 'filter': <class 'filter'>, 'float': <class 'float'>, 'frozenset': <class 'frozenset'>, 'property': <class 'property'>, 'int': <class 'int'>, 'list': <class 'list'>, 'map': <class 'map'>, 'object': <class 'object'>, 'range': <class 'range'>, 'reversed': <class 'reversed'>, 'set': <class 'set'>, 'slice': <class 'slice'>, 'staticmethod': <class 'staticmethod'>, 'str': <class 'str'>, 'super': <class 'super'>, 'tuple': <class 'tuple'>, 'type': <class 'type'>, 'zip': <class 'zip'>, '__debug__': True, 'BaseException': <class 'BaseException'>, 'BaseExceptionGroup': <class 'BaseExceptionGroup'>, 'Exception': <class 'Exception'>, 'GeneratorExit': <class 'GeneratorExit'>, 'KeyboardInterrupt': <class 'KeyboardInterrupt'>, 'SystemExit': <class 'SystemExit'>, 'ArithmeticError': <class 'ArithmeticError'>, 'AssertionError': <class 'AssertionError'>, 'AttributeError': <class 'AttributeError'>, 'BufferError': <class 'BufferError'>, 'EOFError': <class 'EOFError'>, 'ImportError': <class 'ImportError'>, 'LookupError': <class 'LookupError'>, 'MemoryError': <class 'MemoryError'>, 'NameError': <class 'NameError'>, 'OSError': <class 'OSError'>, 'ReferenceError': <class 'ReferenceError'>, 'RuntimeError': <class 'RuntimeError'>, 'StopAsyncIteration': <class 'StopAsyncIteration'>, 'StopIteration': <class 'StopIteration'>, 'SyntaxError': <class 'SyntaxError'>, 'SystemError': <class 'SystemError'>, 'TypeError': <class 'TypeError'>, 'ValueError': <class 'ValueError'>, 'Warning': <class 'Warning'>, 'FloatingPointError': <class 'FloatingPointError'>, 'OverflowError': <class 'OverflowError'>, 'ZeroDivisionError': <class 'ZeroDivisionError'>, 'BytesWarning': <class 'BytesWarning'>, 'DeprecationWarning': <class 'DeprecationWarning'>, 'EncodingWarning': <class 'EncodingWarning'>, 'FutureWarning': <class 'FutureWarning'>, 'ImportWarning': <class 'ImportWarning'>, 'PendingDeprecationWarning': <class 'PendingDeprecationWarning'>, 'ResourceWarning': <class 'ResourceWarning'>, 'RuntimeWarning': <class 'RuntimeWarning'>, 'SyntaxWarning': <class 'SyntaxWarning'>, 'UnicodeWarning': <class 'UnicodeWarning'>, 'UserWarning': <class 'UserWarning'>, 'BlockingIOError': <class 'BlockingIOError'>, 'ChildProcessError': <class 'ChildProcessError'>, 'ConnectionError': <class 'ConnectionError'>, 'FileExistsError': <class 'FileExistsError'>, 'FileNotFoundError': <class 'FileNotFoundError'>, 'InterruptedError': <class 'InterruptedError'>, 'IsADirectoryError': <class 'IsADirectoryError'>, 'NotADirectoryError': <class 'NotADirectoryError'>, 'PermissionError': <class 'PermissionError'>, 'ProcessLookupError': <class 'ProcessLookupError'>, 'TimeoutError': <class 'TimeoutError'>, 'IndentationError': <class 'IndentationError'>, 'IndexError': <class 'IndexError'>, 'KeyError': <class 'KeyError'>, 'ModuleNotFoundError': <class 'ModuleNotFoundError'>, 'NotImplementedError': <class 'NotImplementedError'>, 'RecursionError': <class 'RecursionError'>, 'UnboundLocalError': <class 'UnboundLocalError'>, 'UnicodeError': <class 'UnicodeError'>, 'BrokenPipeError': <class 'BrokenPipeError'>, 'ConnectionAbortedError': <class 'ConnectionAbortedError'>, 'ConnectionRefusedError': <class 'ConnectionRefusedError'>, 'ConnectionResetError': <class 'ConnectionResetError'>, 'TabError': <class 'TabError'>, 'UnicodeDecodeError': <class 'UnicodeDecodeError'>, 'UnicodeEncodeError': <class 'UnicodeEncodeError'>, 'UnicodeTranslateError': <class 'UnicodeTranslateError'>, 'ExceptionGroup': <class 'ExceptionGroup'>, 'EnvironmentError': <class 'OSError'>, 'IOError': <class 'OSError'>, 'open': <built-in function open>, 'copyright': Copyright (c) 2001-2023 Python Software Foundation.\n",
      "All Rights Reserved.\n",
      "\n",
      "Copyright (c) 2000 BeOpen.com.\n",
      "All Rights Reserved.\n",
      "\n",
      "Copyright (c) 1995-2001 Corporation for National Research Initiatives.\n",
      "All Rights Reserved.\n",
      "\n",
      "Copyright (c) 1991-1995 Stichting Mathematisch Centrum, Amsterdam.\n",
      "All Rights Reserved., 'credits':     Thanks to CWI, CNRI, BeOpen.com, Zope Corporation and a cast of thousands\n",
      "    for supporting Python development.  See www.python.org for more information., 'license': Type license() to see the full license text, 'help': Type help() for interactive help, or help(object) for help about object., 'execfile': <function execfile at 0x7debbe4db880>, 'runfile': <function runfile at 0x7debbdbb5760>, '__IPYTHON__': True, 'display': <function display at 0x7debbf53f380>, 'get_ipython': <bound method InteractiveShell.get_ipython of <ipykernel.zmqshell.ZMQInteractiveShell object at 0x7debbc63c590>>}, 'kitchen': <kitchenai.contrib.kitchenai_sdk.kitchenai.KitchenAIApp object at 0x7deb6f2ad350>, 'EmbedSchema': <class 'kitchenai.contrib.kitchenai_sdk.schema.EmbedSchema'>, 'logging': <module 'logging' from '/home/epuerta/.pyenv/versions/3.11.8/lib/python3.11/logging/__init__.py'>, 'VectorStoreIndex': <class 'llama_index.core.indices.vector_store.base.VectorStoreIndex'>, 'StorageContext': <class 'llama_index.core.storage.storage_context.StorageContext'>, 'TokenTextSplitter': <class 'llama_index.core.node_parser.text.token.TokenTextSplitter'>, 'TitleExtractor': <class 'llama_index.core.extractors.metadata_extractors.TitleExtractor'>, 'QuestionsAnsweredExtractor': <class 'llama_index.core.extractors.metadata_extractors.QuestionsAnsweredExtractor'>, 'Document': <class 'llama_index.core.schema.Document'>, 'apps': <django.apps.registry.Apps object at 0x7debbc5eb410>, 'logger': <Logger kitchenai_rag_simple_bento.embeddings.embeddings (INFO)>, 'simple_rag_bento_vagh': <function EmbedTask.handler.<locals>.decorator.<locals>.wrapper at 0x7deb6985ec00>}\n",
      "After manual registration: {'namespace': 'kitchenai_rag_simple_bento', 'query_handlers': ['kitchenai-bento-rag-simple', 'test'], 'storage_handlers': ['kitchenai-bento-simple-rag'], 'embed_handlers': ['kitchenai-bento-simple-rag'], 'agent_handlers': []}\n"
     ]
    }
   ],
   "source": [
    "# First check if the modules are imported\n",
    "from kitchenai_rag_simple_bento.query import query\n",
    "from kitchenai_rag_simple_bento.storage import vector\n",
    "from kitchenai_rag_simple_bento.embeddings import embeddings\n",
    "\n",
    "# Check the decorators on your handlers\n",
    "print(\"Query handlers:\", query.__dict__)\n",
    "print(\"Storage handlers:\", vector.__dict__)\n",
    "print(\"Embedding handlers:\", embeddings.__dict__)\n",
    "\n",
    "# Try manually registering a handler\n",
    "from kitchenai_rag_simple_bento.kitchen import app\n",
    "@app.query.handler(\"test\")\n",
    "def test_handler():\n",
    "    pass\n",
    "\n",
    "# Check if it registered\n",
    "print(\"After manual registration:\", app.to_dict())"
   ]
  },
  {
   "cell_type": "code",
   "execution_count": 8,
   "metadata": {},
   "outputs": [
    {
     "name": "stdout",
     "output_type": "stream",
     "text": [
      "{'namespace': 'kitchenai_rag_simple_bento', 'query_handlers': ['kitchenai-bento-rag-simple', 'test'], 'storage_handlers': ['kitchenai-bento-simple-rag'], 'embed_handlers': ['kitchenai-bento-simple-rag'], 'agent_handlers': []}\n",
      "{'kitchenai-bento-rag-simple': <function kitchenai_bento_simple_rag_vjnk at 0x7deb6994e980>, 'test': <function test_handler at 0x7deb6985ede0>}\n"
     ]
    }
   ],
   "source": [
    "from kitchenai_rag_simple_bento.kitchen import app\n",
    "print(app.to_dict())\n",
    "print(app.query._tasks)"
   ]
  }
 ],
 "metadata": {
  "kernelspec": {
   "display_name": "Python 3 (ipykernel)",
   "language": "python",
   "name": "python3"
  },
  "language_info": {
   "codemirror_mode": {
    "name": "ipython",
    "version": 3
   },
   "file_extension": ".py",
   "mimetype": "text/x-python",
   "name": "python",
   "nbconvert_exporter": "python",
   "pygments_lexer": "ipython3",
   "version": "3.11.8"
  }
 },
 "nbformat": 4,
 "nbformat_minor": 4
}
