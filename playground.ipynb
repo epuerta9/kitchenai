{
 "cells": [
  {
   "cell_type": "code",
   "execution_count": 1,
   "metadata": {},
   "outputs": [
    {
     "data": {
      "application/vnd.jupyter.widget-view+json": {
       "model_id": "9217b48463de41ba8e2c055e435577c7",
       "version_major": 2,
       "version_minor": 0
      },
      "text/plain": [
       "Output()"
      ]
     },
     "metadata": {},
     "output_type": "display_data"
    },
    {
     "data": {
      "text/html": [
       "<pre style=\"white-space:pre;overflow-x:auto;line-height:normal;font-family:Menlo,'DejaVu Sans Mono',consolas,'Courier New',monospace\">INFO HTTP Request: GET https://raw.githubusercontent.com/BerriAI/litellm/main/model_prices_and_context_window.json \n",
       "\"HTTP/1.1 200 OK\"\n",
       "</pre>\n"
      ],
      "text/plain": [
       "INFO HTTP Request: GET https://raw.githubusercontent.com/BerriAI/litellm/main/model_prices_and_context_window.json \n",
       "\"HTTP/1.1 200 OK\"\n"
      ]
     },
     "metadata": {},
     "output_type": "display_data"
    },
    {
     "data": {
      "text/html": [
       "<pre style=\"white-space:pre;overflow-x:auto;line-height:normal;font-family:Menlo,'DejaVu Sans Mono',consolas,'Courier New',monospace\">/home/epuerta/.local/share/hatch/env/pip-compile/kitchenai/H8pmQr2m/dev/lib/python3.11/site-packages/pydantic/_inte\n",
       "rnal/_config.py:341: UserWarning: Valid config keys have changed in V2:\n",
       "* 'fields' has been removed\n",
       "  warnings.warn(message, UserWarning)\n",
       "</pre>\n"
      ],
      "text/plain": [
       "/home/epuerta/.local/share/hatch/env/pip-compile/kitchenai/H8pmQr2m/dev/lib/python3.11/site-packages/pydantic/_inte\n",
       "rnal/_config.py:341: UserWarning: Valid config keys have changed in V2:\n",
       "* 'fields' has been removed\n",
       "  warnings.warn(message, UserWarning)\n"
      ]
     },
     "metadata": {},
     "output_type": "display_data"
    },
    {
     "data": {
      "text/html": [
       "<pre style=\"white-space:pre;overflow-x:auto;line-height:normal;font-family:Menlo,'DejaVu Sans Mono',consolas,'Courier New',monospace\">/home/epuerta/.local/share/hatch/env/pip-compile/kitchenai/H8pmQr2m/dev/lib/python3.11/site-packages/deepeval/__ini\n",
       "t__.py:51: UserWarning: You are using deepeval version 2.0.9, however version 2.1.1 is available. You should \n",
       "consider upgrading via the \"pip install --upgrade deepeval\" command.\n",
       "  warnings.warn(\n",
       "</pre>\n"
      ],
      "text/plain": [
       "/home/epuerta/.local/share/hatch/env/pip-compile/kitchenai/H8pmQr2m/dev/lib/python3.11/site-packages/deepeval/__ini\n",
       "t__.py:51: UserWarning: You are using deepeval version 2.0.9, however version 2.1.1 is available. You should \n",
       "consider upgrading via the \"pip install --upgrade deepeval\" command.\n",
       "  warnings.warn(\n"
      ]
     },
     "metadata": {},
     "output_type": "display_data"
    },
    {
     "data": {
      "text/html": [
       "<pre style=\"white-space:pre;overflow-x:auto;line-height:normal;font-family:Menlo,'DejaVu Sans Mono',consolas,'Courier New',monospace\"></pre>\n"
      ],
      "text/plain": []
     },
     "metadata": {},
     "output_type": "display_data"
    }
   ],
   "source": [
    "from dj_notebook import activate\n",
    "\n",
    "plus = activate()"
   ]
  },
  {
   "cell_type": "code",
   "execution_count": 5,
   "metadata": {},
   "outputs": [
    {
     "name": "stdout",
     "output_type": "stream",
     "text": [
      "<deepeval_plugin.plugin.DeepEvalPlugin object at 0x72128ed5dbd0>\n"
     ]
    },
    {
     "data": {
      "text/plain": [
       "[{'name': 'deepeval_plugin',\n",
       "  'description': 'deepeval integration with kitchenai',\n",
       "  'namespace': 'deepeval',\n",
       "  'home': 'home',\n",
       "  'tags': ['deepeval',\n",
       "   'plugin',\n",
       "   'deepeval_plugin',\n",
       "   'kitchenai-plugin-deepeval']}]"
      ]
     },
     "execution_count": 5,
     "metadata": {},
     "output_type": "execute_result"
    }
   ],
   "source": [
    "from django.apps import apps\n",
    "from django.conf import settings\n",
    "\n",
    "plugin_widgets = []\n",
    "plugins = settings.KITCHENAI.get(\"plugins\", [])\n",
    "if not plugins:\n",
    "    #get the plugin objects from app configs \n",
    "    plugin_objects = [apps.get_app_config(plugin[\"name\"]) for plugin in plugins]\n",
    "    for plugin in plugin_objects:\n",
    "        plugin_widgets.append(plugin.plugin.get_chat_widget())\n",
    "\n",
    "p = apps.get_app_config(\"deepeval_plugin\")\n",
    "print(p.plugin)\n",
    "plugins\n"
   ]
  },
  {
   "cell_type": "code",
   "execution_count": 3,
   "metadata": {},
   "outputs": [
    {
     "name": "stdout",
     "output_type": "stream",
     "text": [
      "<kitchenai.bento.manager.DependencyManager object at 0x785c37099850>\n"
     ]
    }
   ],
   "source": [
    "from kitchenai_rag_simple_bento.kitchen import dependency_manager\n",
    "\n",
    "print(dependency_manager)\n",
    "\n"
   ]
  },
  {
   "cell_type": "code",
   "execution_count": 4,
   "metadata": {},
   "outputs": [
    {
     "data": {
      "text/plain": [
       "<kitchenai.bento.manager.DependencyManager at 0x785c37099850>"
      ]
     },
     "execution_count": 4,
     "metadata": {},
     "output_type": "execute_result"
    }
   ],
   "source": [
    "app.manager = dependency_manager \n",
    "\n",
    "app.manager "
   ]
  },
  {
   "cell_type": "code",
   "execution_count": 5,
   "metadata": {},
   "outputs": [
    {
     "name": "stdout",
     "output_type": "stream",
     "text": [
      "None\n"
     ]
    }
   ],
   "source": [
    "print(app.query._manager)\n",
    "\n"
   ]
  },
  {
   "cell_type": "code",
   "execution_count": 6,
   "metadata": {},
   "outputs": [
    {
     "data": {
      "text/plain": [
       "<kitchenai.bento.manager.DependencyManager at 0x785c37099850>"
      ]
     },
     "execution_count": 6,
     "metadata": {},
     "output_type": "execute_result"
    }
   ],
   "source": [
    "app.set_manager(dependency_manager)\n",
    "\n",
    "app.query._manager\n",
    "\n"
   ]
  },
  {
   "cell_type": "code",
   "execution_count": 10,
   "metadata": {},
   "outputs": [
    {
     "name": "stdout",
     "output_type": "stream",
     "text": [
      "{\n",
      "    \"llm_type\": \"litellm\",\n",
      "    \"llm_name\": \"gpt-4o\",\n",
      "    \"temperature\": 0.7,\n",
      "    \"vector_store\": \"chroma\",\n",
      "    \"chunk_size\": 1024\n",
      "}\n"
     ]
    }
   ],
   "source": [
    "from django.conf import settings\n",
    "import json\n",
    "\n",
    "loaded_bentos =  settings.KITCHENAI[\"bento\"]\n",
    "loaded_bento = next((bento for bento in loaded_bentos if bento[\"name\"] == \"kitchenai_rag_simple_bento\"), None)\n",
    "settings = json.dumps(loaded_bento[\"settings\"], indent=4)\n",
    "\n",
    "print(settings)\n",
    "\n"
   ]
  },
  {
   "cell_type": "code",
   "execution_count": 12,
   "metadata": {},
   "outputs": [
    {
     "name": "stdout",
     "output_type": "stream",
     "text": [
      "{'llm_type': 'litellm', 'llm_name': 'gpt-4o', 'temperature': 0.7, 'vector_store': 'chroma', 'chunk_size': 1024}\n"
     ]
    }
   ],
   "source": [
    "from kitchenai_rag_simple_bento import get_available_env_vars\n",
    "\n",
    "print(get_available_env_vars().model_dump())"
   ]
  },
  {
   "cell_type": "markdown",
   "metadata": {},
   "source": []
  }
 ],
 "metadata": {
  "kernelspec": {
   "display_name": "Python 3 (ipykernel)",
   "language": "python",
   "name": "python3"
  },
  "language_info": {
   "codemirror_mode": {
    "name": "ipython",
    "version": 3
   },
   "file_extension": ".py",
   "mimetype": "text/x-python",
   "name": "python",
   "nbconvert_exporter": "python",
   "pygments_lexer": "ipython3",
   "version": "3.11.8"
  }
 },
 "nbformat": 4,
 "nbformat_minor": 4
}
