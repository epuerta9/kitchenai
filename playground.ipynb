{
 "cells": [
  {
   "cell_type": "code",
   "execution_count": 1,
   "metadata": {},
   "outputs": [
    {
     "data": {
      "application/vnd.jupyter.widget-view+json": {
       "model_id": "b1a972179f3f4878aa0c24169b5d8743",
       "version_major": 2,
       "version_minor": 0
      },
      "text/plain": [
       "Output()"
      ]
     },
     "metadata": {},
     "output_type": "display_data"
    },
    {
     "data": {
      "text/html": [
       "<pre style=\"white-space:pre;overflow-x:auto;line-height:normal;font-family:Menlo,'DejaVu Sans Mono',consolas,'Courier New',monospace\">INFO HTTP Request: GET https://raw.githubusercontent.com/BerriAI/litellm/main/model_prices_and_context_window.json \n",
       "\"HTTP/1.1 200 OK\"\n",
       "</pre>\n"
      ],
      "text/plain": [
       "INFO HTTP Request: GET https://raw.githubusercontent.com/BerriAI/litellm/main/model_prices_and_context_window.json \n",
       "\"HTTP/1.1 200 OK\"\n"
      ]
     },
     "metadata": {},
     "output_type": "display_data"
    },
    {
     "data": {
      "text/html": [
       "<pre style=\"white-space:pre;overflow-x:auto;line-height:normal;font-family:Menlo,'DejaVu Sans Mono',consolas,'Courier New',monospace\">/home/epuerta/.local/share/hatch/env/pip-compile/kitchenai/H8pmQr2m/dev/lib/python3.11/site-packages/pydantic/_inte\n",
       "rnal/_config.py:341: UserWarning: Valid config keys have changed in V2:\n",
       "* 'fields' has been removed\n",
       "  warnings.warn(message, UserWarning)\n",
       "</pre>\n"
      ],
      "text/plain": [
       "/home/epuerta/.local/share/hatch/env/pip-compile/kitchenai/H8pmQr2m/dev/lib/python3.11/site-packages/pydantic/_inte\n",
       "rnal/_config.py:341: UserWarning: Valid config keys have changed in V2:\n",
       "* 'fields' has been removed\n",
       "  warnings.warn(message, UserWarning)\n"
      ]
     },
     "metadata": {},
     "output_type": "display_data"
    },
    {
     "data": {
      "text/html": [
       "<pre style=\"white-space:pre;overflow-x:auto;line-height:normal;font-family:Menlo,'DejaVu Sans Mono',consolas,'Courier New',monospace\">/home/epuerta/.local/share/hatch/env/pip-compile/kitchenai/H8pmQr2m/dev/lib/python3.11/site-packages/deepeval/__ini\n",
       "t__.py:51: UserWarning: You are using deepeval version 2.0.9, however version 2.1.1 is available. You should \n",
       "consider upgrading via the \"pip install --upgrade deepeval\" command.\n",
       "  warnings.warn(\n",
       "</pre>\n"
      ],
      "text/plain": [
       "/home/epuerta/.local/share/hatch/env/pip-compile/kitchenai/H8pmQr2m/dev/lib/python3.11/site-packages/deepeval/__ini\n",
       "t__.py:51: UserWarning: You are using deepeval version 2.0.9, however version 2.1.1 is available. You should \n",
       "consider upgrading via the \"pip install --upgrade deepeval\" command.\n",
       "  warnings.warn(\n"
      ]
     },
     "metadata": {},
     "output_type": "display_data"
    },
    {
     "data": {
      "text/html": [
       "<pre style=\"white-space:pre;overflow-x:auto;line-height:normal;font-family:Menlo,'DejaVu Sans Mono',consolas,'Courier New',monospace\"></pre>\n"
      ],
      "text/plain": []
     },
     "metadata": {},
     "output_type": "display_data"
    }
   ],
   "source": [
    "from dj_notebook import activate\n",
    "\n",
    "plus = activate()"
   ]
  },
  {
   "cell_type": "code",
   "execution_count": 3,
   "metadata": {},
   "outputs": [
    {
     "ename": "ImportError",
     "evalue": "cannot import name 'Coalesce' from 'django.db.models' (/home/epuerta/.local/share/hatch/env/pip-compile/kitchenai/H8pmQr2m/dev/lib/python3.11/site-packages/django/db/models/__init__.py)",
     "output_type": "error",
     "traceback": [
      "\u001b[0;31m---------------------------------------------------------------------------\u001b[0m",
      "\u001b[0;31mImportError\u001b[0m                               Traceback (most recent call last)",
      "Cell \u001b[0;32mIn[3], line 2\u001b[0m\n\u001b[1;32m      1\u001b[0m \u001b[38;5;28;01mfrom\u001b[39;00m \u001b[38;5;21;01mdeepeval_plugin\u001b[39;00m\u001b[38;5;21;01m.\u001b[39;00m\u001b[38;5;21;01mmodels\u001b[39;00m \u001b[38;5;28;01mimport\u001b[39;00m DataSet, Data, AnswerRelevance, Faithfulness, ContextualRelevancy, Hallucination, Toxicity\n\u001b[0;32m----> 2\u001b[0m \u001b[38;5;28;01mfrom\u001b[39;00m \u001b[38;5;21;01mdjango\u001b[39;00m\u001b[38;5;21;01m.\u001b[39;00m\u001b[38;5;21;01mdb\u001b[39;00m\u001b[38;5;21;01m.\u001b[39;00m\u001b[38;5;21;01mmodels\u001b[39;00m \u001b[38;5;28;01mimport\u001b[39;00m Avg, Coalesce, OuterRef, Subquery\n\u001b[1;32m      3\u001b[0m dataset \u001b[38;5;241m=\u001b[39m \u001b[38;5;28;01mawait\u001b[39;00m DataSet\u001b[38;5;241m.\u001b[39mobjects\u001b[38;5;241m.\u001b[39maget(\u001b[38;5;28mid\u001b[39m\u001b[38;5;241m=\u001b[39m\u001b[38;5;241m1\u001b[39m)\n\u001b[1;32m      5\u001b[0m \u001b[38;5;66;03m# Get page number from request\u001b[39;00m\n\u001b[1;32m      6\u001b[0m \n\u001b[1;32m      7\u001b[0m \u001b[38;5;66;03m# Get all data entries for this dataset with metrics in one query\u001b[39;00m\n",
      "\u001b[0;31mImportError\u001b[0m: cannot import name 'Coalesce' from 'django.db.models' (/home/epuerta/.local/share/hatch/env/pip-compile/kitchenai/H8pmQr2m/dev/lib/python3.11/site-packages/django/db/models/__init__.py)"
     ]
    }
   ],
   "source": [
    "from deepeval_plugin.models import DataSet, Data, AnswerRelevance, Faithfulness, ContextualRelevancy, Hallucination, Toxicity\n",
    "from django.db.models import Avg, OuterRef, Subquery\n",
    "from django.db.models.functions import Coalesce\n",
    "\n",
    "dataset = await DataSet.objects.aget(id=1)\n",
    "\n",
    "# Get page number from request\n",
    "\n",
    "# Get all data entries for this dataset with metrics in one query\n",
    "entries = Data.objects.prefetch_related(\n",
    "    'answerrelevance',\n",
    "    'faithfulness',\n",
    "    'contextualrelevancy',\n",
    "    'hallucination',\n",
    "    'toxicity'\n",
    ").filter(\n",
    "    dataset_id=1\n",
    ").values(\n",
    "    'source_id',\n",
    "    'input',\n",
    "    'output',\n",
    "    'created_at',\n",
    ").annotate(\n",
    "    answer_relevance=Coalesce(\n",
    "        Subquery(\n",
    "            AnswerRelevance.objects.filter(data_id=OuterRef('id')).values('score')[:1]\n",
    "        ), None\n",
    "    ),\n",
    "    faithfulness=Coalesce(\n",
    "        Subquery(\n",
    "            Faithfulness.objects.filter(data_id=OuterRef('id')).values('score')[:1]\n",
    "        ), None\n",
    "    ),\n",
    "    contextual_relevancy=Coalesce(\n",
    "        Subquery(\n",
    "            ContextualRelevancy.objects.filter(data_id=OuterRef('id')).values('score')[:1]\n",
    "        ), None\n",
    "    ),\n",
    "    hallucination=Coalesce(\n",
    "        Subquery(\n",
    "            Hallucination.objects.filter(data_id=OuterRef('id')).values('score')[:1]\n",
    "        ), None\n",
    "    ),\n",
    "    toxicity=Coalesce(\n",
    "        Subquery(\n",
    "            Toxicity.objects.filter(data_id=OuterRef('id')).values('score')[:1]\n",
    "        ), None\n",
    "    )\n",
    ").order_by('-created_at')"
   ]
  }
 ],
 "metadata": {
  "kernelspec": {
   "display_name": "Python 3 (ipykernel)",
   "language": "python",
   "name": "python3"
  },
  "language_info": {
   "codemirror_mode": {
    "name": "ipython",
    "version": 3
   },
   "file_extension": ".py",
   "mimetype": "text/x-python",
   "name": "python",
   "nbconvert_exporter": "python",
   "pygments_lexer": "ipython3",
   "version": "3.11.8"
  }
 },
 "nbformat": 4,
 "nbformat_minor": 4
}
