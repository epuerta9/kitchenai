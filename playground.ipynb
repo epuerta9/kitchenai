{
 "cells": [
  {
   "cell_type": "code",
   "execution_count": 1,
   "metadata": {},
   "outputs": [
    {
     "data": {
      "application/vnd.jupyter.widget-view+json": {
       "model_id": "e600211581df45c4a8873371e57c3c74",
       "version_major": 2,
       "version_minor": 0
      },
      "text/plain": [
       "Output()"
      ]
     },
     "metadata": {},
     "output_type": "display_data"
    },
    {
     "data": {
      "text/html": [
       "<pre style=\"white-space:pre;overflow-x:auto;line-height:normal;font-family:Menlo,'DejaVu Sans Mono',consolas,'Courier New',monospace\"></pre>\n"
      ],
      "text/plain": []
     },
     "metadata": {},
     "output_type": "display_data"
    }
   ],
   "source": [
    "from dj_notebook import activate\n",
    "import os \n",
    "os.environ[\"AWS_S3_VERIFY\"] = \"false\"\n",
    "plus = activate()"
   ]
  },
  {
   "cell_type": "code",
   "execution_count": 4,
   "metadata": {},
   "outputs": [
    {
     "name": "stdout",
     "output_type": "stream",
     "text": [
      "\n",
      "All attributes:\n",
      "API_KEY_ENV\n",
      "BertScoreMetric\n",
      "Client\n",
      "CohereRerankerMetric\n",
      "EntailmentScoreMetric\n",
      "IMPLEMENTATION_ID_ENV\n",
      "IMPLEMENTATION_ID_NAME\n",
      "LOG_TO_SERVER_ENV\n",
      "Metric\n",
      "Optional\n",
      "RandomMetric\n",
      "Singleton\n",
      "abstractmethod\n",
      "bertscore_metric\n",
      "cohere_reranker_metric\n",
      "cosine_similarity\n",
      "entailment_metric\n",
      "factual_consistency\n",
      "metric\n",
      "os\n",
      "random\n",
      "randomscore\n",
      "ranking_similarity\n",
      "softmax\n",
      "warnings\n",
      "\n",
      "Detailed help:\n",
      "Help on package deepeval.metrics in deepeval:\n",
      "\n",
      "NAME\n",
      "    deepeval.metrics\n",
      "\n",
      "PACKAGE CONTENTS\n",
      "    alert_score\n",
      "    answer_relevancy\n",
      "    bertscore\n",
      "    bertscore_metric\n",
      "    bias_classifier\n",
      "    bleu_metric\n",
      "    cohere_reranker_metric\n",
      "    conceptual_similarity\n",
      "    entailment_metric\n",
      "    factual_consistency\n",
      "    metric\n",
      "    overall_score\n",
      "    randomscore\n",
      "    ranking_similarity\n",
      "    toxic_classifier\n",
      "\n",
      "DATA\n",
      "    API_KEY_ENV = 'CONFIDENT_AI_API_KEY'\n",
      "    IMPLEMENTATION_ID_ENV = 'CONFIDENT_AI_IMP_ID'\n",
      "    IMPLEMENTATION_ID_NAME = 'CONFIDENT_AI_IMP_NAME'\n",
      "    LOG_TO_SERVER_ENV = 'DO_NOT_SEND_TO_CONFIDENT_AI'\n",
      "    Optional = typing.Optional\n",
      "        Optional[X] is equivalent to Union[X, None].\n",
      "\n",
      "FILE\n",
      "    /home/epuerta/.local/share/hatch/env/pip-compile/kitchenai/H8pmQr2m/dev/lib/python3.11/site-packages/deepeval/metrics/__init__.py\n",
      "\n",
      "\n",
      "\n",
      "Specific metric example:\n"
     ]
    },
    {
     "ename": "AttributeError",
     "evalue": "module 'deepeval.metrics' has no attribute 'AnswerRelevancy'",
     "output_type": "error",
     "traceback": [
      "\u001b[0;31m---------------------------------------------------------------------------\u001b[0m",
      "\u001b[0;31mAttributeError\u001b[0m                            Traceback (most recent call last)",
      "Cell \u001b[0;32mIn[4], line 14\u001b[0m\n\u001b[1;32m     12\u001b[0m \u001b[38;5;66;03m# To see specific metric details\u001b[39;00m\n\u001b[1;32m     13\u001b[0m \u001b[38;5;28mprint\u001b[39m(\u001b[38;5;124m\"\u001b[39m\u001b[38;5;130;01m\\n\u001b[39;00m\u001b[38;5;124mSpecific metric example:\u001b[39m\u001b[38;5;124m\"\u001b[39m)\n\u001b[0;32m---> 14\u001b[0m help(\u001b[43mdeepeval\u001b[49m\u001b[38;5;241;43m.\u001b[39;49m\u001b[43mmetrics\u001b[49m\u001b[38;5;241;43m.\u001b[39;49m\u001b[43mAnswerRelevancy\u001b[49m)\n",
      "\u001b[0;31mAttributeError\u001b[0m: module 'deepeval.metrics' has no attribute 'AnswerRelevancy'"
     ]
    }
   ],
   "source": [
    "# Using dir() to list all attributes\n",
    "import deepeval.metrics\n",
    "print(\"\\nAll attributes:\")\n",
    "for attr in dir(deepeval.metrics):\n",
    "    if not attr.startswith('_'):  # Skip private attributes\n",
    "        print(attr)\n",
    "\n",
    "# Or for more detailed help\n",
    "print(\"\\nDetailed help:\")\n",
    "help(deepeval.metrics)\n",
    "\n",
    "# To see specific metric details\n",
    "print(\"\\nSpecific metric example:\")\n",
    "help(deepeval.metrics.AnswerRelevancy)"
   ]
  },
  {
   "cell_type": "code",
   "execution_count": 8,
   "metadata": {},
   "outputs": [
    {
     "ename": "ImportError",
     "evalue": "cannot import name 'Faithfulness' from 'deepeval.metrics.metric' (/home/epuerta/.local/share/hatch/env/pip-compile/kitchenai/H8pmQr2m/dev/lib/python3.11/site-packages/deepeval/metrics/metric.py)",
     "output_type": "error",
     "traceback": [
      "\u001b[0;31m---------------------------------------------------------------------------\u001b[0m",
      "\u001b[0;31mImportError\u001b[0m                               Traceback (most recent call last)",
      "Cell \u001b[0;32mIn[8], line 1\u001b[0m\n\u001b[0;32m----> 1\u001b[0m \u001b[38;5;28;01mfrom\u001b[39;00m \u001b[38;5;21;01mdeepeval\u001b[39;00m\u001b[38;5;21;01m.\u001b[39;00m\u001b[38;5;21;01mmetrics\u001b[39;00m\u001b[38;5;21;01m.\u001b[39;00m\u001b[38;5;21;01mmetric\u001b[39;00m \u001b[38;5;28;01mimport\u001b[39;00m Faithfulness\n",
      "\u001b[0;31mImportError\u001b[0m: cannot import name 'Faithfulness' from 'deepeval.metrics.metric' (/home/epuerta/.local/share/hatch/env/pip-compile/kitchenai/H8pmQr2m/dev/lib/python3.11/site-packages/deepeval/metrics/metric.py)"
     ]
    }
   ],
   "source": [
    "from deepeval.metrics.metric import Faithfulness\n"
   ]
  },
  {
   "cell_type": "code",
   "execution_count": 3,
   "metadata": {},
   "outputs": [],
   "source": [
    "from kitchenai.core.auth.oss.organization import OSSBentoClient"
   ]
  },
  {
   "cell_type": "code",
   "execution_count": 4,
   "metadata": {},
   "outputs": [],
   "source": [
    "bentos  = OSSBentoClient.objects.all()"
   ]
  },
  {
   "cell_type": "code",
   "execution_count": 5,
   "metadata": {},
   "outputs": [
    {
     "data": {
      "text/plain": [
       "<QuerySet [<OSSBentoClient pk=6>, <OSSBentoClient pk=7>]>"
      ]
     },
     "execution_count": 5,
     "metadata": {},
     "output_type": "execute_result"
    }
   ],
   "source": [
    "\n",
    "bentos"
   ]
  },
  {
   "cell_type": "code",
   "execution_count": null,
   "metadata": {},
   "outputs": [],
   "source": [
    "OSSBentoClient.objects."
   ]
  }
 ],
 "metadata": {
  "kernelspec": {
   "display_name": "dev",
   "language": "python",
   "name": "python3"
  },
  "language_info": {
   "codemirror_mode": {
    "name": "ipython",
    "version": 3
   },
   "file_extension": ".py",
   "mimetype": "text/x-python",
   "name": "python",
   "nbconvert_exporter": "python",
   "pygments_lexer": "ipython3",
   "version": "3.11.8"
  }
 },
 "nbformat": 4,
 "nbformat_minor": 4
}
