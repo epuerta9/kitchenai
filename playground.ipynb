{
 "cells": [
  {
   "cell_type": "code",
   "execution_count": 1,
   "metadata": {},
   "outputs": [
    {
     "data": {
      "application/vnd.jupyter.widget-view+json": {
       "model_id": "e40b2ba6727c4c1fa1d14d51046a85e9",
       "version_major": 2,
       "version_minor": 0
      },
      "text/plain": [
       "Output()"
      ]
     },
     "metadata": {},
     "output_type": "display_data"
    },
    {
     "data": {
      "text/html": [
       "<pre style=\"white-space:pre;overflow-x:auto;line-height:normal;font-family:Menlo,'DejaVu Sans Mono',consolas,'Courier New',monospace\">INFO HTTP Request: GET https://raw.githubusercontent.com/BerriAI/litellm/main/model_prices_and_context_window.json \n",
       "\"HTTP/1.1 200 OK\"\n",
       "</pre>\n"
      ],
      "text/plain": [
       "INFO HTTP Request: GET https://raw.githubusercontent.com/BerriAI/litellm/main/model_prices_and_context_window.json \n",
       "\"HTTP/1.1 200 OK\"\n"
      ]
     },
     "metadata": {},
     "output_type": "display_data"
    },
    {
     "data": {
      "text/html": [
       "<pre style=\"white-space:pre;overflow-x:auto;line-height:normal;font-family:Menlo,'DejaVu Sans Mono',consolas,'Courier New',monospace\">/home/epuerta/.local/share/hatch/env/pip-compile/kitchenai/H8pmQr2m/dev/lib/python3.11/site-packages/pydantic/_inte\n",
       "rnal/_config.py:341: UserWarning: Valid config keys have changed in V2:\n",
       "* 'fields' has been removed\n",
       "  warnings.warn(message, UserWarning)\n",
       "</pre>\n"
      ],
      "text/plain": [
       "/home/epuerta/.local/share/hatch/env/pip-compile/kitchenai/H8pmQr2m/dev/lib/python3.11/site-packages/pydantic/_inte\n",
       "rnal/_config.py:341: UserWarning: Valid config keys have changed in V2:\n",
       "* 'fields' has been removed\n",
       "  warnings.warn(message, UserWarning)\n"
      ]
     },
     "metadata": {},
     "output_type": "display_data"
    },
    {
     "data": {
      "text/html": [
       "<pre style=\"white-space:pre;overflow-x:auto;line-height:normal;font-family:Menlo,'DejaVu Sans Mono',consolas,'Courier New',monospace\"></pre>\n"
      ],
      "text/plain": []
     },
     "metadata": {},
     "output_type": "display_data"
    }
   ],
   "source": [
    "from dj_notebook import activate\n",
    "\n",
    "plus = activate()"
   ]
  },
  {
   "cell_type": "code",
   "execution_count": 2,
   "metadata": {},
   "outputs": [
    {
     "name": "stdout",
     "output_type": "stream",
     "text": [
      "None\n"
     ]
    }
   ],
   "source": [
    "from kitchenai_rag_simple_bento.kitchen import app\n",
    "\n",
    "print(app.manager)\n",
    "\n"
   ]
  },
  {
   "cell_type": "code",
   "execution_count": 3,
   "metadata": {},
   "outputs": [
    {
     "name": "stdout",
     "output_type": "stream",
     "text": [
      "<kitchenai.bento.manager.DependencyManager object at 0x785c37099850>\n"
     ]
    }
   ],
   "source": [
    "from kitchenai_rag_simple_bento.kitchen import dependency_manager\n",
    "\n",
    "print(dependency_manager)\n",
    "\n"
   ]
  },
  {
   "cell_type": "code",
   "execution_count": 4,
   "metadata": {},
   "outputs": [
    {
     "data": {
      "text/plain": [
       "<kitchenai.bento.manager.DependencyManager at 0x785c37099850>"
      ]
     },
     "execution_count": 4,
     "metadata": {},
     "output_type": "execute_result"
    }
   ],
   "source": [
    "app.manager = dependency_manager \n",
    "\n",
    "app.manager "
   ]
  },
  {
   "cell_type": "code",
   "execution_count": 5,
   "metadata": {},
   "outputs": [
    {
     "name": "stdout",
     "output_type": "stream",
     "text": [
      "None\n"
     ]
    }
   ],
   "source": [
    "print(app.query._manager)\n",
    "\n"
   ]
  },
  {
   "cell_type": "code",
   "execution_count": 6,
   "metadata": {},
   "outputs": [
    {
     "data": {
      "text/plain": [
       "<kitchenai.bento.manager.DependencyManager at 0x785c37099850>"
      ]
     },
     "execution_count": 6,
     "metadata": {},
     "output_type": "execute_result"
    }
   ],
   "source": [
    "app.set_manager(dependency_manager)\n",
    "\n",
    "app.query._manager\n",
    "\n"
   ]
  },
  {
   "cell_type": "code",
   "execution_count": 8,
   "metadata": {},
   "outputs": [
    {
     "ename": "NameError",
     "evalue": "name 'json' is not defined",
     "output_type": "error",
     "traceback": [
      "\u001b[0;31m---------------------------------------------------------------------------\u001b[0m",
      "\u001b[0;31mNameError\u001b[0m                                 Traceback (most recent call last)",
      "Cell \u001b[0;32mIn[8], line 5\u001b[0m\n\u001b[1;32m      3\u001b[0m loaded_bentos \u001b[38;5;241m=\u001b[39m  settings\u001b[38;5;241m.\u001b[39mKITCHENAI[\u001b[38;5;124m\"\u001b[39m\u001b[38;5;124mbento\u001b[39m\u001b[38;5;124m\"\u001b[39m]\n\u001b[1;32m      4\u001b[0m loaded_bento \u001b[38;5;241m=\u001b[39m \u001b[38;5;28mnext\u001b[39m((bento \u001b[38;5;28;01mfor\u001b[39;00m bento \u001b[38;5;129;01min\u001b[39;00m loaded_bentos \u001b[38;5;28;01mif\u001b[39;00m bento[\u001b[38;5;124m\"\u001b[39m\u001b[38;5;124mname\u001b[39m\u001b[38;5;124m\"\u001b[39m] \u001b[38;5;241m==\u001b[39m \u001b[38;5;124m\"\u001b[39m\u001b[38;5;124mkitchenai_rag_simple_bento\u001b[39m\u001b[38;5;124m\"\u001b[39m), \u001b[38;5;28;01mNone\u001b[39;00m)\n\u001b[0;32m----> 5\u001b[0m settings \u001b[38;5;241m=\u001b[39m \u001b[43mjson\u001b[49m\u001b[38;5;241m.\u001b[39mdumps(loaded_bento[\u001b[38;5;124m\"\u001b[39m\u001b[38;5;124msettings\u001b[39m\u001b[38;5;124m\"\u001b[39m], indent\u001b[38;5;241m=\u001b[39m\u001b[38;5;241m4\u001b[39m)\n",
      "\u001b[0;31mNameError\u001b[0m: name 'json' is not defined"
     ]
    }
   ],
   "source": [
    "from django.conf import settings\n",
    "import json\n",
    "\n",
    "loaded_bentos =  settings.KITCHENAI[\"bento\"]\n",
    "loaded_bento = next((bento for bento in loaded_bentos if bento[\"name\"] == \"kitchenai_rag_simple_bento\"), None)\n",
    "settings = json.dumps(loaded_bento[\"settings\"], indent=4)"
   ]
  }
 ],
 "metadata": {
  "kernelspec": {
   "display_name": "Python 3 (ipykernel)",
   "language": "python",
   "name": "python3"
  },
  "language_info": {
   "codemirror_mode": {
    "name": "ipython",
    "version": 3
   },
   "file_extension": ".py",
   "mimetype": "text/x-python",
   "name": "python",
   "nbconvert_exporter": "python",
   "pygments_lexer": "ipython3",
   "version": "3.11.8"
  }
 },
 "nbformat": 4,
 "nbformat_minor": 4
}
